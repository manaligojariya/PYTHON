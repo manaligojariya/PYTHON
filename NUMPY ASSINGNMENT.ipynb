{
 "cells": [
  {
   "cell_type": "code",
   "execution_count": 1,
   "id": "d5a02576",
   "metadata": {},
   "outputs": [],
   "source": [
    "import pandas as pd\n",
    "import numpy as np"
   ]
  },
  {
   "cell_type": "code",
   "execution_count": 32,
   "id": "b49ce8ae",
   "metadata": {},
   "outputs": [
    {
     "name": "stdout",
     "output_type": "stream",
     "text": [
      "[[20.25 20.25 20.25 20.25]\n",
      " [20.25 20.25 20.25 20.25]\n",
      " [20.25 20.25 20.25 20.25]\n",
      " [20.25 20.25 20.25 20.25]\n",
      " [20.25 20.25 20.25 20.25]]\n",
      "\n",
      "\n",
      "[[[0.00000000e+000 0.00000000e+000]\n",
      "  [4.94065646e-324 6.95299164e-310]\n",
      "  [3.26083326e-322 8.21904492e-312]\n",
      "  [8.21904492e-312 8.21904469e-312]\n",
      "  [8.21904492e-312 8.21904492e-312]\n",
      "  [8.21904492e-312 8.21904474e-312]\n",
      "  [8.21904472e-312 8.21904492e-312]]\n",
      "\n",
      " [[8.21904468e-312 8.21904471e-312]\n",
      "  [8.21904492e-312 8.21904492e-312]\n",
      "  [8.21904473e-312 8.21904472e-312]\n",
      "  [8.21904471e-312 8.21904469e-312]\n",
      "  [8.21904472e-312 8.21904492e-312]\n",
      "  [8.21904467e-312 8.21904492e-312]\n",
      "  [8.21904492e-312 8.21904470e-312]]\n",
      "\n",
      " [[8.21904492e-312 8.21904474e-312]\n",
      "  [8.21904469e-312 8.21904492e-312]\n",
      "  [8.21904466e-312 8.21904492e-312]\n",
      "  [8.21904492e-312 8.21904545e-312]\n",
      "  [8.21904545e-312 8.21904492e-312]\n",
      "  [8.21904546e-312 8.21904492e-312]\n",
      "  [8.21904539e-312 8.21904545e-312]]\n",
      "\n",
      " [[8.21904545e-312 8.21904546e-312]\n",
      "  [8.21904544e-312 8.21904492e-312]\n",
      "  [8.21904542e-312 8.21904543e-312]\n",
      "  [8.21904546e-312 8.21904547e-312]\n",
      "  [8.21904546e-312 8.21904547e-312]\n",
      "  [8.21904547e-312 8.21904546e-312]\n",
      "  [8.21904491e-312 8.21904491e-312]]\n",
      "\n",
      " [[8.21904491e-312 8.21904542e-312]\n",
      "  [8.21904491e-312 8.21904545e-312]\n",
      "  [8.21904546e-312 8.21904544e-312]\n",
      "  [8.21904543e-312 8.21904541e-312]\n",
      "  [8.21904544e-312 8.21904491e-312]\n",
      "  [0.00000000e+000 0.00000000e+000]\n",
      "  [0.00000000e+000 0.00000000e+000]]]\n"
     ]
    }
   ],
   "source": [
    "#How to create an empty and a full numpy array.\n",
    "\n",
    "a1=np.full((5,4),20.25)\n",
    "print(a1)\n",
    "print('\\n')\n",
    "a2=np.empty((5,7,2))\n",
    "print(a2)"
   ]
  },
  {
   "cell_type": "code",
   "execution_count": 21,
   "id": "074a1c8c",
   "metadata": {},
   "outputs": [
    {
     "name": "stdout",
     "output_type": "stream",
     "text": [
      "[0. 0. 0. 0. 0. 0. 0. 0. 0. 0. 0. 0. 0. 0. 0. 0. 0. 0. 0. 0.]\n"
     ]
    }
   ],
   "source": [
    "#Create a numpy array filled with all zeros...?\n",
    "a1=np.zeros(20)\n",
    "print(a1)"
   ]
  },
  {
   "cell_type": "code",
   "execution_count": 22,
   "id": "0b646d33",
   "metadata": {},
   "outputs": [
    {
     "data": {
      "text/plain": [
       "array([1., 1., 1., 1., 1., 1., 1., 1., 1., 1., 1., 1., 1., 1., 1., 1., 1.,\n",
       "       1., 1., 1.])"
      ]
     },
     "execution_count": 22,
     "metadata": {},
     "output_type": "execute_result"
    }
   ],
   "source": [
    "#Create a numpy array filled with all ones...?\n",
    "a2=np.ones(20)\n",
    "a2"
   ]
  },
  {
   "cell_type": "code",
   "execution_count": 64,
   "id": "be7b0cac",
   "metadata": {},
   "outputs": [
    {
     "name": "stdout",
     "output_type": "stream",
     "text": [
      "[[4 5 6]\n",
      " [1 2 3]\n",
      " [7 8 9]]\n",
      "False\n",
      "True\n"
     ]
    }
   ],
   "source": [
    "# Check whether a numpy aeeay conatins a specific row.?\n",
    " \n",
    "s2=np.array([[4,5,6],[1,2,3],[7,8,9]])\n",
    "print(s2)\n",
    "print([4,0,6] in s2.tolist())\n",
    "print([7,8,9] in s2.tolist())\n"
   ]
  },
  {
   "cell_type": "code",
   "execution_count": 58,
   "id": "4897bb37",
   "metadata": {},
   "outputs": [
    {
     "data": {
      "text/plain": [
       "array([[ 1.,  2.,  3.],\n",
       "       [10., 11., 12.]])"
      ]
     },
     "execution_count": 58,
     "metadata": {},
     "output_type": "execute_result"
    }
   ],
   "source": [
    "# How to remove rows in numpy array that contains non numerical values..?\n",
    "\n",
    "array = np.array([[1, 2, 3],\n",
    "                  [4, np.nan, 6],   # Row with non-numeric value 'g'\n",
    "                  [np.nan, 8, 9],   # Row with non-numeric value 'm'\n",
    "                  [10, 11, 12]])\n",
    "\n",
    "\n",
    "array[~np.isnan(array).any(axis=1)]\n"
   ]
  },
  {
   "cell_type": "code",
   "execution_count": 72,
   "id": "10fc8248",
   "metadata": {},
   "outputs": [
    {
     "name": "stdout",
     "output_type": "stream",
     "text": [
      "Original shape: (1, 1, 3)\n",
      "Squeezed shape: (3,)\n"
     ]
    },
    {
     "data": {
      "text/plain": [
       "3"
      ]
     },
     "execution_count": 72,
     "metadata": {},
     "output_type": "execute_result"
    }
   ],
   "source": [
    "# Remove single dimensional entries from the shapes of an array..?\n",
    "array = np.array([[[1, 2, 3]]])\n",
    "\n",
    "# Squeeze the array to remove single-dimensional entries\n",
    "squeezed_array = np.squeeze(array)\n",
    "\n",
    "print(\"Original shape:\", array.shape)\n",
    "print(\"Squeezed shape:\", squeezed_array.shape)\n",
    "array.ndim"
   ]
  },
  {
   "cell_type": "code",
   "execution_count": 77,
   "id": "35cad5b5",
   "metadata": {},
   "outputs": [
    {
     "name": "stdout",
     "output_type": "stream",
     "text": [
      "4\n"
     ]
    }
   ],
   "source": [
    "# find the number of occurences of a sequence in a numpy array..?\n",
    "arr = np.array([[2, 4, 9, 8],  \n",
    "                   [9, 4, 2, 4], \n",
    "                   [2, 4, 2, 4], \n",
    "                   [2, 9, 4, 3]]) \n",
    "  \n",
    "# Counting sequence \n",
    "occ = repr(arr).count(\"2, 4\") \n",
    "  \n",
    "# view output \n",
    "print(occ) "
   ]
  },
  {
   "cell_type": "code",
   "execution_count": 92,
   "id": "412bcee0",
   "metadata": {},
   "outputs": [
    {
     "data": {
      "text/plain": [
       "4"
      ]
     },
     "execution_count": 92,
     "metadata": {},
     "output_type": "execute_result"
    }
   ],
   "source": [
    "# find the most frequent value in a numpy array..?\n",
    "arr= np.array([4,5,6,4,6,4,4,4,7,8,9,0])\n",
    "# ans=np.argmax(arr)\n",
    "ans=np.bincount(arr).argmax()\n",
    "ans"
   ]
  },
  {
   "cell_type": "code",
   "execution_count": 124,
   "id": "d0e87568",
   "metadata": {},
   "outputs": [
    {
     "name": "stdout",
     "output_type": "stream",
     "text": [
      "[[1 2]\n",
      " [3 4]]\n",
      "[5 6]\n",
      "[[ 6  8]\n",
      " [ 8 10]]\n"
     ]
    }
   ],
   "source": [
    "# combining a one and a two dimentional numpy array..?\n",
    "\n",
    "a = np.array([[1, 2], [3, 4]])\n",
    "print(a)\n",
    "b = np.array([5,6])\n",
    "print(b)\n",
    "c=a+b\n",
    "print(c)\n",
    "\n"
   ]
  },
  {
   "cell_type": "code",
   "execution_count": 110,
   "id": "eb0d46ce",
   "metadata": {},
   "outputs": [
    {
     "name": "stdout",
     "output_type": "stream",
     "text": [
      "array1 :\n",
      "[1 2 3]\n",
      "array2 :\n",
      "[[4 5 6]\n",
      " [9 9 0]]\n",
      "combination :\n",
      "[[1 4]\n",
      " [2 4]\n",
      " [3 4]\n",
      " [1 5]\n",
      " [2 5]\n",
      " [3 5]\n",
      " [1 6]\n",
      " [2 6]\n",
      " [3 6]\n",
      " [1 9]\n",
      " [2 9]\n",
      " [3 9]\n",
      " [1 9]\n",
      " [2 9]\n",
      " [3 9]\n",
      " [1 0]\n",
      " [2 0]\n",
      " [3 0]]\n"
     ]
    }
   ],
   "source": [
    "# how to build an array of all combining of two numpy arrays..?\n",
    "\n",
    "array1=np.array([1,2,3])\n",
    "array2=np.array([[4,5,6],[9,9,0]])\n",
    "\n",
    "x,y=np.meshgrid(array1,array2)\n",
    "\n",
    "combination = np.column_stack((x.ravel(),y.ravel()))\n",
    "\n",
    "print(\"array1 :\")\n",
    "print(array1)\n",
    "print(\"array2 :\")\n",
    "print(array2)\n",
    "print(\"combination :\")\n",
    "print(combination)\n"
   ]
  },
  {
   "cell_type": "code",
   "execution_count": 125,
   "id": "e86eb808",
   "metadata": {},
   "outputs": [
    {
     "name": "stdout",
     "output_type": "stream",
     "text": [
      "[[1 2 3]\n",
      " [5 6 7]\n",
      " [4 5 6]\n",
      " [9 9 0]]\n"
     ]
    }
   ],
   "source": [
    "#function 1\n",
    "array1=np.array([[1,2,3],[5,6,7]])\n",
    "array2=np.array([[4,5,6],[9,9,0]])\n",
    "ans=np.concatenate((array1,array2))\n",
    "print(ans)\n"
   ]
  },
  {
   "cell_type": "code",
   "execution_count": null,
   "id": "66bc4853",
   "metadata": {},
   "outputs": [],
   "source": []
  },
  {
   "cell_type": "code",
   "execution_count": null,
   "id": "6082e72b",
   "metadata": {},
   "outputs": [],
   "source": []
  },
  {
   "cell_type": "code",
   "execution_count": null,
   "id": "719e078c",
   "metadata": {},
   "outputs": [],
   "source": []
  },
  {
   "cell_type": "code",
   "execution_count": null,
   "id": "5119b9c9",
   "metadata": {},
   "outputs": [],
   "source": []
  },
  {
   "cell_type": "code",
   "execution_count": null,
   "id": "db61946f",
   "metadata": {},
   "outputs": [],
   "source": []
  },
  {
   "cell_type": "code",
   "execution_count": null,
   "id": "58e239d8",
   "metadata": {},
   "outputs": [],
   "source": []
  },
  {
   "cell_type": "code",
   "execution_count": null,
   "id": "0252e61a",
   "metadata": {},
   "outputs": [],
   "source": []
  },
  {
   "cell_type": "code",
   "execution_count": null,
   "id": "7ea0a361",
   "metadata": {},
   "outputs": [],
   "source": []
  },
  {
   "cell_type": "code",
   "execution_count": null,
   "id": "b68a146a",
   "metadata": {},
   "outputs": [],
   "source": []
  },
  {
   "cell_type": "code",
   "execution_count": null,
   "id": "81485bc1",
   "metadata": {},
   "outputs": [],
   "source": []
  },
  {
   "cell_type": "code",
   "execution_count": null,
   "id": "ff8b70c0",
   "metadata": {},
   "outputs": [],
   "source": []
  },
  {
   "cell_type": "code",
   "execution_count": null,
   "id": "10ca9541",
   "metadata": {},
   "outputs": [],
   "source": []
  }
 ],
 "metadata": {
  "kernelspec": {
   "display_name": "Python 3 (ipykernel)",
   "language": "python",
   "name": "python3"
  },
  "language_info": {
   "codemirror_mode": {
    "name": "ipython",
    "version": 3
   },
   "file_extension": ".py",
   "mimetype": "text/x-python",
   "name": "python",
   "nbconvert_exporter": "python",
   "pygments_lexer": "ipython3",
   "version": "3.11.5"
  }
 },
 "nbformat": 4,
 "nbformat_minor": 5
}
